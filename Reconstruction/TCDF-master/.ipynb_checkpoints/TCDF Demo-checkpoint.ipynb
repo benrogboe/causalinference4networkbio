{
 "cells": [
  {
   "cell_type": "markdown",
   "metadata": {},
   "source": [
    "# TCDF: Temporal Causal Discovery Framework\n",
    "\n",
    "This notebook shows the functionality of TCDF. \n",
    "\n",
    "See the corresponding paper for more detail: __[\"Causal Discovery with Attention-Based Convolutional Neural Networks\"](https://www.mdpi.com/2504-4990/1/1/19)__."
   ]
  },
  {
   "cell_type": "markdown",
   "metadata": {},
   "source": [
    "To demonstrate the Temporal Causal Discovery Framework, we apply TCDF to a small dataset (`demo_dataset.csv`). This dataset contains 4 timeseries (called `Timeser0`,`Timeser1`,`Timeser2` and `Timeser3`), all containing 4,000 time steps. `Timeser0` and `Timeser3`contain random values. A value of `Timeser1` at timestep `t` is generated based on timestep `t-1` of `Timeser0` plus some noise. Therefore, `Timeser1` is caused by `Timeser0` with a delay of 1 time step. A value of `Timeser2` at timestep `t` is generated based on timestep `t-2` of `Timeser1` plus some noise. Therefore, `Timeser2` is caused by `Timeser1` with a delay of 1 time step. File `demo_groundtruth` contains the ground truth, i.e. it tells that there is a causal relationship from `Timeser0` to `Timeser1` with a delay of 1 time step, and a causal relationship from `Timeser1` to `Timeser2` with a delay of 2 time steps."
   ]
  },
  {
   "cell_type": "code",
   "execution_count": 1,
   "metadata": {},
   "outputs": [
    {
     "name": "stdout",
     "output_type": "stream",
     "text": [
      "Arguments: Namespace(cuda=False, data=['data/demo_dataset.csv'], dilation_coefficient=4, epochs=1000, ground_truth=None, hidden_layers=0, kernel_size=4, learning_rate=0.01, log_interval=500, optimizer='Adam', plot=False, seed=1111, significance=0.8)\n",
      "\n",
      " Dataset:  demo_dataset.csv\n",
      "\n",
      " Analysis started for target:  Timeser0\n",
      "Epoch:  1 [0%] \tLoss: 2.315027\n",
      "Epoch: 500 [50%] \tLoss: 1.695508\n",
      "Epoch: 1000 [100%] \tLoss: 1.694401\n",
      "Potential causes:  [1]\n",
      "Validated causes:  []\n",
      "\n",
      " Analysis started for target:  Timeser1\n",
      "Epoch:  1 [0%] \tLoss: 4.291189\n",
      "Epoch: 500 [50%] \tLoss: 0.002134\n",
      "Epoch: 1000 [100%] \tLoss: 0.002114\n",
      "Potential causes:  [0]\n",
      "Validated causes:  [0]\n",
      "\n",
      " Analysis started for target:  Timeser2\n",
      "Epoch:  1 [0%] \tLoss: 1.740447\n",
      "Epoch: 500 [50%] \tLoss: 0.364764\n",
      "Epoch: 1000 [100%] \tLoss: 0.364258\n",
      "Potential causes:  [1, 0]\n",
      "Validated causes:  [1]\n",
      "\n",
      " Analysis started for target:  Timeser3 \n",
      "Epoch:  1 [0%] \tLoss: 2.264087\n",
      "Epoch: 500 [50%] \tLoss: 1.657547\n",
      "Epoch: 1000 [100%] \tLoss: 1.654929\n",
      "Potential causes:  [3, 1]\n",
      "Validated causes:  []\n",
      "\n",
      "===================Results for demo_dataset.csv ==================================\n",
      "Timeser0 causes Timeser1 with a delay of 1 time steps.\n",
      "Timeser1 causes Timeser2 with a delay of 2 time steps.\n",
      "==================================================================================\n"
     ]
    }
   ],
   "source": [
    "\"\"\"Run TCDF\"\"\"\n",
    "%matplotlib inline\n",
    "%run -i \"runTCDF.py\" --data data/demo_dataset.csv"
   ]
  },
  {
   "cell_type": "code",
   "execution_count": 2,
   "metadata": {
    "scrolled": false
   },
   "outputs": [
    {
     "name": "stdout",
     "output_type": "stream",
     "text": [
      "Arguments: Namespace(cuda=False, data=None, dilation_coefficient=4, epochs=500, ground_truth={'data/demo_dataset.csv': 'data/demo_groundtruth.csv'}, hidden_layers=0, kernel_size=4, learning_rate=0.01, log_interval=250, optimizer='Adam', plot=True, seed=1111, significance=0.8)\n",
      "\n",
      " Dataset:  demo_dataset.csv\n",
      "\n",
      " Analysis started for target:  Timeser0\n",
      "Epoch:  1 [0%] \tLoss: 2.315027\n",
      "Epoch: 250 [50%] \tLoss: 1.697024\n",
      "Epoch: 500 [100%] \tLoss: 1.695508\n",
      "Potential causes:  [1, 2]\n",
      "Validated causes:  []\n",
      "\n",
      " Analysis started for target:  Timeser1\n",
      "Epoch:  1 [0%] \tLoss: 4.291189\n",
      "Epoch: 250 [50%] \tLoss: 0.002199\n",
      "Epoch: 500 [100%] \tLoss: 0.002134\n",
      "Potential causes:  [0]\n",
      "Validated causes:  [0]\n",
      "\n",
      " Analysis started for target:  Timeser2\n",
      "Epoch:  1 [0%] \tLoss: 1.740447\n",
      "Epoch: 250 [50%] \tLoss: 0.365181\n",
      "Epoch: 500 [100%] \tLoss: 0.364764\n",
      "Potential causes:  [1, 0]\n",
      "Validated causes:  [1]\n",
      "\n",
      " Analysis started for target:  Timeser3 \n",
      "Epoch:  1 [0%] \tLoss: 2.264087\n",
      "Epoch: 250 [50%] \tLoss: 1.658578\n",
      "Epoch: 500 [100%] \tLoss: 1.657547\n",
      "Potential causes:  [3, 1]\n",
      "Validated causes:  []\n",
      "\n",
      "===================Results for demo_dataset.csv ==================================\n",
      "Timeser0 causes Timeser1 with a delay of 1 time steps.\n",
      "Timeser1 causes Timeser2 with a delay of 2 time steps.\n",
      "\n",
      "===================Evaluation for demo_dataset.csv ===============================\n",
      "Total False Positives':  0\n",
      "Total True Positives':  2\n",
      "Total False Negatives:  0\n",
      "Total Direct False Positives:  0\n",
      "Total Direct True Positives:  2\n",
      "TPs':  [(1, 0), (2, 1)]\n",
      "FPs':  []\n",
      "TPs direct:  [(1, 0), (2, 1)]\n",
      "FPs direct:  []\n",
      "FNs:  []\n",
      "Precision':  1.0\n",
      "Recall':  1.0\n",
      "F1' score:  1.0 (includes direct and indirect causal relationships)\n",
      "Precision:  1.0\n",
      "Recall:  1.0\n",
      "F1 score:  1.0 (includes only direct causal relationships)\n",
      "Percentage of delays that are correctly discovered:  100.0 %\n",
      "==================================================================================\n"
     ]
    },
    {
     "data": {
      "image/png": "[encoded data removed]",
      "text/plain": [
       "<Figure size 432x288 with 1 Axes>"
      ]
     },
     "metadata": {},
     "output_type": "display_data"
    },
    {
     "data": {
      "text/plain": [
       "<Figure size 432x288 with 0 Axes>"
      ]
     },
     "metadata": {},
     "output_type": "display_data"
    }
   ],
   "source": [
    "\"\"\"Run TCDF and evaluate by comparing the results to the ground truth\"\"\"\n",
    "%matplotlib inline\n",
    "%run -i \"runTCDF.py\" --ground_truth data/demo_dataset.csv=data/demo_groundtruth.csv  --epochs 500 --log_interval 250 --plot"
   ]
  },
  {
   "cell_type": "code",
   "execution_count": null,
   "metadata": {},
   "outputs": [
    {
     "name": "stdout",
     "output_type": "stream",
     "text": [
      "Arguments: Namespace(cuda=False, data=['data/demo_dataset.csv'], dilation_coefficient=4, epochs=1000, hidden_layers=0, kernel_size=4, learning_rate=0.01, log_interval=500, optimizer='Adam', plot=True, seed=1111, train_test_split=0.8)\n",
      "\n",
      " Analysis started for target:  Timeser0\n",
      "Epoch:  1 [0%] \tLoss: 2.302341\n",
      "Epoch: 500 [50%] \tLoss: 1.684885\n",
      "Epoch: 1000 [100%] \tLoss: 1.684628\n",
      "\n",
      " Analysis started for target:  Timeser1\n",
      "Epoch:  1 [0%] \tLoss: 4.267725\n",
      "Epoch: 500 [50%] \tLoss: 0.002414\n"
     ]
    }
   ],
   "source": [
    "\"\"\"Evaluates the prediction accuracy of TCDF.\"\"\"\n",
    "\"\"\"For more information about MASE (Mean Absolute Scaled Error), see https://otexts.org/fpp2/accuracy.html\"\"\"\n",
    "\n",
    "%matplotlib inline\n",
    "%run -i \"evaluate_predictions_TCDF.py\" --data data/demo_dataset.csv --plot"
   ]
  },
  {
   "cell_type": "code",
   "execution_count": null,
   "metadata": {
    "scrolled": true
   },
   "outputs": [],
   "source": [
    "\"\"\"Shows all argument options\"\"\"\n",
    "\n",
    "%run -i \"runTCDF.py\" --help"
   ]
  },
  {
   "cell_type": "code",
   "execution_count": null,
   "metadata": {},
   "outputs": [],
   "source": []
  },
  {
   "cell_type": "code",
   "execution_count": null,
   "metadata": {},
   "outputs": [],
   "source": []
  },
  {
   "cell_type": "code",
   "execution_count": null,
   "metadata": {},
   "outputs": [],
   "source": []
  },
  {
   "cell_type": "code",
   "execution_count": null,
   "metadata": {},
   "outputs": [],
   "source": []
  }
 ],
 "metadata": {
  "kernelspec": {
   "display_name": "Python 3",
   "language": "python",
   "name": "python3"
  },
  "language_info": {
   "codemirror_mode": {
    "name": "ipython",
    "version": 3
   },
   "file_extension": ".py",
   "mimetype": "text/x-python",
   "name": "python",
   "nbconvert_exporter": "python",
   "pygments_lexer": "ipython3",
   "version": "3.7.3"
  }
 },
 "nbformat": 4,
 "nbformat_minor": 2
}
